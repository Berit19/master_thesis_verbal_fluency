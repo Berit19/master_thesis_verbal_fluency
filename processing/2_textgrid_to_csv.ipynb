{
 "cells": [
  {
   "cell_type": "code",
   "execution_count": null,
   "metadata": {},
   "outputs": [],
   "source": [
    "import pandas as pd\n",
    "import glob\n",
    "import textgrids"
   ]
  },
  {
   "cell_type": "code",
   "execution_count": null,
   "metadata": {},
   "outputs": [],
   "source": [
    "# declare the path where the textgrids are stored\n",
    "path = r'../output/textgrid/*.Textgrid'\n",
    "# all files in the declared folder that end with .Textgrid are stored in a list\n",
    "files = glob.glob(path)\n",
    "\n",
    "# declare the name of the tier that you want to extract\n",
    "#tier_name = 'silences' # e.g. for praat silences \n",
    "tier_name = 'word' # for whisperx"
   ]
  },
  {
   "cell_type": "markdown",
   "metadata": {},
   "source": [
    "Transform all textgrids to csv and merge into one big csv\n",
    "Exclude the word \"een\" and expletives; and check whether the last produced word was later than 30s into the one-minute trial"
   ]
  },
  {
   "cell_type": "code",
   "execution_count": null,
   "metadata": {},
   "outputs": [],
   "source": [
    "merged_data = pd.DataFrame()\n",
    "\n",
    "# iterates through all files in the list \n",
    "for file_name in files:\n",
    "\n",
    "    print(file_name)\n",
    "    # get the textgrid information from the file, stored in a dictionary called grid\n",
    "    grid = textgrids.TextGrid(file_name)\n",
    "    \n",
    "    items = []\n",
    "    starts = []\n",
    "    durations = []\n",
    "    subsequent_RT = []\n",
    "    participant_id = grid.filename.split(\"\\\\\")[1].split('.')[0]\n",
    "    corrupted_audio = []\n",
    "\n",
    "    # iterates through each line in the tier of interest and adds a word and its start time to lists\n",
    "    for item in grid[tier_name]:\n",
    "        # only consider words (not silent pauses or articles like \"een\")\n",
    "        if (item.text !=\"\" and item.text != \"een\" and item.text != \"fuck\"):\n",
    "            items.append(item.text)\n",
    "            starts.append(item.xmin)\n",
    "\n",
    "    # calculate the durations between the start times of subsequent words\n",
    "    for i in range(len(starts)):\n",
    "        if i == (len(starts) - 1):\n",
    "            durations.append(60 - starts[i])\n",
    "        else: \n",
    "            durations.append(starts[i+1] - starts[i])\n",
    "        if i == 0:\n",
    "            subsequent_RT.append(0)\n",
    "        else:\n",
    "            subsequent_RT.append(starts[i] - starts[0])\n",
    "\n",
    "\n",
    "\n",
    "    # check whether the trial was appropraitely long (60s), if not, do not add it to the merged csv file\n",
    "    if item.xmin > 30:\n",
    "        # all list are stored in a dictionary and then transformed to a csv\n",
    "        dict = {'id': participant_id, 'item': items, 'start': starts, 'dur': durations, \"sub_RT\": subsequent_RT}\n",
    "        df = pd.DataFrame.from_dict(dict)\n",
    "        df.to_csv(grid.filename.split(\"\\\\\")[0] + '/' + participant_id + \".csv\", index_label='item_number')\n",
    "        \n",
    "        # concatenate all df such that there is one big data file in the end\n",
    "        merged_data = pd.concat([merged_data, df])\n",
    "    else:\n",
    "        # add to list that contains all corrupted audio files\n",
    "        corrupted_audio.append(file_name)\n",
    "\n",
    "merged_data.to_csv(grid.filename.split(\"\\\\\")[0] + '/' +'merged_CSVs.csv', index=False)\n",
    "\n",
    "# get a csv file that lists all audio files that are not the appropriate 60s long\n",
    "dictCorrFiles = {'filename': corrupted_audio}\n",
    "dfCorrFiles = pd.DataFrame.from_dict(dictCorrFiles)\n",
    "dfCorrFiles.to_csv('corruptedAudioFiles.csv')\n",
    "print('Number of corrupted files: ' , len(corrupted_audio) )\n"
   ]
  }
 ],
 "metadata": {
  "kernelspec": {
   "display_name": "Python 3 (ipykernel)",
   "language": "python",
   "name": "python3"
  },
  "language_info": {
   "codemirror_mode": {
    "name": "ipython",
    "version": 3
   },
   "file_extension": ".py",
   "mimetype": "text/x-python",
   "name": "python",
   "nbconvert_exporter": "python",
   "pygments_lexer": "ipython3",
   "version": "3.8.20"
  }
 },
 "nbformat": 4,
 "nbformat_minor": 2
}
